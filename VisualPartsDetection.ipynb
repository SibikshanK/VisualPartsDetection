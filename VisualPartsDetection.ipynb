{
  "nbformat": 4,
  "nbformat_minor": 0,
  "metadata": {
    "colab": {
      "provenance": []
    },
    "kernelspec": {
      "name": "python3",
      "display_name": "Python 3"
    },
    "language_info": {
      "name": "python"
    }
  },
  "cells": [
    {
      "cell_type": "code",
      "execution_count": null,
      "metadata": {
        "id": "QwWWsrNAtVlT",
        "colab": {
          "base_uri": "https://localhost:8080/"
        },
        "outputId": "7c719e16-0481-4953-9511-fe6bd0c255e2"
      },
      "outputs": [
        {
          "output_type": "stream",
          "name": "stdout",
          "text": [
            "Collecting PyMuPDF\n",
            "  Downloading PyMuPDF-1.22.5-cp310-cp310-manylinux_2_17_x86_64.manylinux2014_x86_64.whl (14.1 MB)\n",
            "\u001b[2K     \u001b[90m━━━━━━━━━━━━━━━━━━━━━━━━━━━━━━━━━━━━━━━━\u001b[0m \u001b[32m14.1/14.1 MB\u001b[0m \u001b[31m49.0 MB/s\u001b[0m eta \u001b[36m0:00:00\u001b[0m\n",
            "\u001b[?25hRequirement already satisfied: Pillow in /usr/local/lib/python3.10/dist-packages (9.4.0)\n",
            "Collecting pdfplumber\n",
            "  Downloading pdfplumber-0.10.2-py3-none-any.whl (47 kB)\n",
            "\u001b[2K     \u001b[90m━━━━━━━━━━━━━━━━━━━━━━━━━━━━━━━━━━━━━━━━\u001b[0m \u001b[32m47.5/47.5 kB\u001b[0m \u001b[31m5.5 MB/s\u001b[0m eta \u001b[36m0:00:00\u001b[0m\n",
            "\u001b[?25hCollecting pdfminer.six==20221105 (from pdfplumber)\n",
            "  Downloading pdfminer.six-20221105-py3-none-any.whl (5.6 MB)\n",
            "\u001b[2K     \u001b[90m━━━━━━━━━━━━━━━━━━━━━━━━━━━━━━━━━━━━━━━━\u001b[0m \u001b[32m5.6/5.6 MB\u001b[0m \u001b[31m87.6 MB/s\u001b[0m eta \u001b[36m0:00:00\u001b[0m\n",
            "\u001b[?25hCollecting pypdfium2>=4.18.0 (from pdfplumber)\n",
            "  Downloading pypdfium2-4.18.0-py3-none-manylinux_2_17_x86_64.whl (2.9 MB)\n",
            "\u001b[2K     \u001b[90m━━━━━━━━━━━━━━━━━━━━━━━━━━━━━━━━━━━━━━━━\u001b[0m \u001b[32m2.9/2.9 MB\u001b[0m \u001b[31m46.2 MB/s\u001b[0m eta \u001b[36m0:00:00\u001b[0m\n",
            "\u001b[?25hRequirement already satisfied: charset-normalizer>=2.0.0 in /usr/local/lib/python3.10/dist-packages (from pdfminer.six==20221105->pdfplumber) (2.0.12)\n",
            "Collecting cryptography>=36.0.0 (from pdfminer.six==20221105->pdfplumber)\n",
            "  Downloading cryptography-41.0.3-cp37-abi3-manylinux_2_28_x86_64.whl (4.3 MB)\n",
            "\u001b[2K     \u001b[90m━━━━━━━━━━━━━━━━━━━━━━━━━━━━━━━━━━━━━━━━\u001b[0m \u001b[32m4.3/4.3 MB\u001b[0m \u001b[31m52.6 MB/s\u001b[0m eta \u001b[36m0:00:00\u001b[0m\n",
            "\u001b[?25hRequirement already satisfied: cffi>=1.12 in /usr/local/lib/python3.10/dist-packages (from cryptography>=36.0.0->pdfminer.six==20221105->pdfplumber) (1.15.1)\n",
            "Requirement already satisfied: pycparser in /usr/local/lib/python3.10/dist-packages (from cffi>=1.12->cryptography>=36.0.0->pdfminer.six==20221105->pdfplumber) (2.21)\n",
            "Installing collected packages: pypdfium2, PyMuPDF, cryptography, pdfminer.six, pdfplumber\n",
            "  Attempting uninstall: cryptography\n",
            "    Found existing installation: cryptography 3.4.8\n",
            "    Uninstalling cryptography-3.4.8:\n",
            "      Successfully uninstalled cryptography-3.4.8\n",
            "Successfully installed PyMuPDF-1.22.5 cryptography-41.0.3 pdfminer.six-20221105 pdfplumber-0.10.2 pypdfium2-4.18.0\n"
          ]
        }
      ],
      "source": [
        "!pip install PyMuPDF Pillow pdfplumber"
      ]
    },
    {
      "cell_type": "code",
      "source": [
        "import pdfplumber\n",
        "from PIL import Image\n",
        "import fitz\n",
        "import io"
      ],
      "metadata": {
        "id": "LkDtLdbquikP"
      },
      "execution_count": null,
      "outputs": []
    },
    {
      "cell_type": "code",
      "source": [
        "file = \"/content/TransformersinNLP.pdf\""
      ],
      "metadata": {
        "id": "ze-xXjQZunPL"
      },
      "execution_count": null,
      "outputs": []
    },
    {
      "cell_type": "code",
      "source": [
        "def extract_img(pdf_path):\n",
        "  pdf_file = fitz.open(file)\n",
        "\n",
        "  for page_index in range(pdf_file.page_count):\n",
        "      page = pdf_file.load_page(page_index)\n",
        "      for block in page.get_text('blocks'):\n",
        "            if block[6] == 1: # check if block is an image\n",
        "                x0, y0, x1, y1 = block[:4] # get image coordinates\n",
        "                print(f'Image coordinates: {x0}, {y0}, {x1}, {y1}')\n",
        "      image_list = page.get_images(full=True)\n",
        "      if image_list:\n",
        "          print(f\"[+] Found a total of {len(image_list)} images in page {page_index}\")\n",
        "      else:\n",
        "          print(\"[!] No images found on page\", page_index)\n",
        "\n",
        "      for image_index, img in enumerate(image_list, start=1):\n",
        "          xref = img[0]\n",
        "          base_image = pdf_file.extract_image(xref)\n",
        "          image_bytes = base_image[\"image\"]\n",
        "          image_ext = base_image[\"ext\"]\n",
        "          pil_image = Image.open(io.BytesIO(image_bytes))\n",
        "          pil_image.save(f\"page_{page_index}image{image_index}.{image_ext}\")"
      ],
      "metadata": {
        "id": "PQDkjuxKtqMZ"
      },
      "execution_count": null,
      "outputs": []
    },
    {
      "cell_type": "code",
      "source": [
        "extract_img(file)"
      ],
      "metadata": {
        "id": "y0c60HMEvzWN",
        "colab": {
          "base_uri": "https://localhost:8080/"
        },
        "outputId": "fb7e83ed-209d-4459-feb6-07454d95d7d0"
      },
      "execution_count": null,
      "outputs": [
        {
          "output_type": "stream",
          "name": "stdout",
          "text": [
            "Image coordinates: 39.86970138549805, 313.64166259765625, 66.44950103759766, 340.2214660644531\n",
            "Image coordinates: 39.86970138549805, 223.2703399658203, 59.80455017089844, 243.20518493652344\n",
            "[+] Found a total of 2 images in page 0\n",
            "Image coordinates: 309.947998046875, 182.0562744140625, 565.0433349609375, 372.5509948730469\n",
            "[+] Found a total of 1 images in page 1\n",
            "Image coordinates: 309.947998046875, 132.31790161132812, 565.0587158203125, 244.67498779296875\n",
            "Image coordinates: 309.947998046875, 504.6396179199219, 565.0570068359375, 605.4320068359375\n",
            "[+] Found a total of 2 images in page 2\n",
            "Image coordinates: 309.947998046875, 50.539398193359375, 565.0499877929688, 201.7340087890625\n",
            "Image coordinates: 309.947998046875, 316.71759033203125, 565.0759887695312, 616.4929809570312\n",
            "[+] Found a total of 2 images in page 3\n",
            "Image coordinates: 46.933998107910156, 113.1079330444336, 302.052490234375, 177.25201416015625\n",
            "Image coordinates: 46.933998107910156, 390.8923645019531, 302.0510559082031, 492.25201416015625\n",
            "Image coordinates: 309.947998046875, 603.3934936523438, 565.05712890625, 674.0040283203125\n",
            "[+] Found a total of 3 images in page 4\n",
            "[!] No images found on page 5\n",
            "Image coordinates: 46.933998107910156, 150.4975128173828, 302.05804443359375, 232.74298095703125\n",
            "[+] Found a total of 1 images in page 6\n"
          ]
        }
      ]
    },
    {
      "cell_type": "code",
      "source": [],
      "metadata": {
        "id": "g_-6rth_wUy1"
      },
      "execution_count": null,
      "outputs": []
    },
    {
      "cell_type": "code",
      "source": [],
      "metadata": {
        "id": "HYNPRx5zw6-4"
      },
      "execution_count": null,
      "outputs": []
    },
    {
      "cell_type": "code",
      "source": [],
      "metadata": {
        "id": "OvbYk8kV-BUT"
      },
      "execution_count": null,
      "outputs": []
    }
  ]
}